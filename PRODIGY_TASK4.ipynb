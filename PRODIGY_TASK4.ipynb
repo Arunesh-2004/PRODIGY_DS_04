{
  "nbformat": 4,
  "nbformat_minor": 0,
  "metadata": {
    "colab": {
      "provenance": []
    },
    "kernelspec": {
      "name": "python3",
      "display_name": "Python 3"
    },
    "language_info": {
      "name": "python"
    }
  },
  "cells": [
    {
      "cell_type": "code",
      "source": [
        "import pandas as pd\n",
        "import re\n",
        "from sklearn.model_selection import train_test_split\n",
        "from sklearn.linear_model import LogisticRegression\n",
        "from sklearn.metrics import classification_report, confusion_matrix, accuracy_score, precision_score, recall_score, f1_score\n",
        "import seaborn as sns\n",
        "import matplotlib.pyplot as plt\n",
        "from sklearn.feature_extraction.text import TfidfVectorizer\n",
        "from sklearn.model_selection import GridSearchCV"
      ],
      "metadata": {
        "id": "dS1l-Deje3h2"
      },
      "execution_count": 3,
      "outputs": []
    },
    {
      "cell_type": "code",
      "source": [
        "# Load the dataset\n",
        "train_data = pd.read_csv('/content/twitter_training.csv',header=None)\n",
        "validation_data = pd.read_csv('/content/twitter_validation.csv',header=None)"
      ],
      "metadata": {
        "id": "l8fZ3F1qXQUu"
      },
      "execution_count": 5,
      "outputs": []
    },
    {
      "cell_type": "code",
      "source": [
        "column_names = ['id', 'Borderlands' ,'label', 'tweet']\n",
        "train_data = pd.read_csv('twitter_training.csv',header=None, names=column_names)\n",
        "validation_data = pd.read_csv('twitter_validation.csv',header=None, names=column_names)"
      ],
      "metadata": {
        "id": "PRilKe4IagZD"
      },
      "execution_count": 6,
      "outputs": []
    },
    {
      "cell_type": "code",
      "source": [
        "train_data['tweet'] = train_data['tweet'].astype(str).fillna('')\n",
        "validation_data['tweet'] = validation_data['tweet'].astype(str).fillna('')"
      ],
      "metadata": {
        "id": "lwR3jQDAbT6t"
      },
      "execution_count": 7,
      "outputs": []
    },
    {
      "cell_type": "code",
      "source": [
        "# Function to clean text\n",
        "def clean_text(text):\n",
        "    text = re.sub(r'http\\S+', '', text)\n",
        "    text = re.sub(r'@\\w+', '', text)\n",
        "    text = re.sub(r'#\\w+', '', text)\n",
        "    text = re.sub(r'[^\\w\\s]', '', text)\n",
        "    text = text.lower()\n",
        "    return text\n",
        "\n",
        "train_data['cleaned_text'] = train_data['tweet'].apply(clean_text)\n",
        "validation_data['cleaned_text'] = validation_data['tweet'].apply(clean_text)"
      ],
      "metadata": {
        "id": "K1q7aZs4ZHa8"
      },
      "execution_count": 8,
      "outputs": []
    },
    {
      "cell_type": "code",
      "source": [
        "train_data['sentiment'] = train_data['label'].map({'Positive': 1, 'Neutral': 0, 'Negative': -1})\n",
        "validation_data['sentiment'] = validation_data['label'].map({'Positive': 1, 'Neutral': 0, 'Negative': -1})"
      ],
      "metadata": {
        "id": "dPgH1kMEbcEh"
      },
      "execution_count": 9,
      "outputs": []
    },
    {
      "cell_type": "code",
      "source": [
        "train_data.dropna(inplace=True)\n",
        "validation_data.dropna(inplace=True)"
      ],
      "metadata": {
        "id": "ezlr5jp1bc_R"
      },
      "execution_count": 10,
      "outputs": []
    },
    {
      "cell_type": "code",
      "source": [
        "train_data = train_data[train_data['cleaned_text'].str.strip() != '']\n",
        "validation_data = validation_data[validation_data['cleaned_text'].str.strip() != '']"
      ],
      "metadata": {
        "id": "cfK8CbxRXD9N"
      },
      "execution_count": 11,
      "outputs": []
    },
    {
      "cell_type": "code",
      "source": [
        "X_train = train_data['cleaned_text']\n",
        "y_train = train_data['sentiment']\n",
        "\n",
        "X_test = validation_data['cleaned_text']\n",
        "y_test = validation_data['sentiment']"
      ],
      "metadata": {
        "id": "txBf3ferd28f"
      },
      "execution_count": 12,
      "outputs": []
    },
    {
      "cell_type": "code",
      "source": [
        "vectorizer = TfidfVectorizer(max_features=5000, stop_words='english')\n",
        "X_train_tfidf = vectorizer.fit_transform(X_train)\n",
        "X_test_tfidf = vectorizer.transform(X_test)"
      ],
      "metadata": {
        "id": "BaNNe4ydfC9V"
      },
      "execution_count": 13,
      "outputs": []
    },
    {
      "cell_type": "code",
      "source": [
        "# Train a logistic regression model\n",
        "model = LogisticRegression(max_iter=1000, C=0.1, penalty='l2')\n",
        "model.fit(X_train_tfidf, y_train)\n",
        "\n",
        "# Predict\n",
        "y_pred = model.predict(X_test_tfidf)\n",
        "\n",
        "print(\"\\nClassification Report:\")\n",
        "print(classification_report(y_test, y_pred))\n",
        "\n",
        "cm = confusion_matrix(y_test, y_pred)\n",
        "print(cm)"
      ],
      "metadata": {
        "colab": {
          "base_uri": "https://localhost:8080/"
        },
        "id": "nzZZ6ov9Y8tB",
        "outputId": "ad0b5860-a466-4cc9-90ce-e56093c537f3"
      },
      "execution_count": 15,
      "outputs": [
        {
          "output_type": "stream",
          "name": "stdout",
          "text": [
            "\n",
            "Classification Report:\n",
            "              precision    recall  f1-score   support\n",
            "\n",
            "        -1.0       0.69      0.86      0.77       266\n",
            "         0.0       0.85      0.61      0.71       285\n",
            "         1.0       0.80      0.84      0.82       277\n",
            "\n",
            "    accuracy                           0.77       828\n",
            "   macro avg       0.78      0.77      0.76       828\n",
            "weighted avg       0.78      0.77      0.76       828\n",
            "\n",
            "[[228  19  19]\n",
            " [ 70 175  40]\n",
            " [ 32  13 232]]\n"
          ]
        }
      ]
    }
  ]
}